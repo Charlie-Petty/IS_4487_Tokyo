{
  "cells": [
    {
      "cell_type": "markdown",
      "metadata": {
        "id": "view-in-github",
        "colab_type": "text"
      },
      "source": [
        "<a href=\"https://colab.research.google.com/github/Charlie-Petty/IS_4487_Tokyo/blob/main/Copy_of_day3_lab_retailer_intro.ipynb\" target=\"_parent\"><img src=\"https://colab.research.google.com/assets/colab-badge.svg\" alt=\"Open In Colab\"/></a>"
      ]
    },
    {
      "cell_type": "markdown",
      "metadata": {
        "id": "zCEcl_WDcUsv"
      },
      "source": [
        "# Day 3 Lab, IS 4487\n",
        "\n",
        "Outline\n",
        "\n",
        "Repeat exercises from Lab 2, for practice, but with the *SuperStore Retail Orders* dataset\n",
        "\n",
        "- Loading installed packages\n",
        "- Inspect data\n",
        "- Clean data\n",
        "- Summarize data\n",
        "- Explore plot types and search for insights\n",
        "\n",
        "Please use the Gemini AI tool to get coding ideas.\n",
        "\n"
      ]
    },
    {
      "cell_type": "markdown",
      "source": [
        "# Notebook Instructions\n",
        "- Remember to save a copy of the notebook in Drive so that you can save your changes.\n",
        "- Complete the Assignment Tasks.\n",
        "- When you are done revising this notebook save your changes to GitHub and upload the URL for the file to Canvas for the assignment.\n",
        "- Some of these assignments ask you to do things we have not covered yet.  Use AI to come up with a solution."
      ],
      "metadata": {
        "id": "aXtYp4npljXj"
      }
    },
    {
      "cell_type": "markdown",
      "metadata": {
        "id": "hNWAPvcacUsw"
      },
      "source": [
        "# Load Libraries\n",
        "\n",
        "➡️ Assignment Tasks\n",
        "- Load Pandas"
      ]
    },
    {
      "cell_type": "code",
      "source": [
        "# your code goes here\n",
        "!pip install pandas\n",
        "import pandas as pd\n"
      ],
      "metadata": {
        "id": "klSlXHCjl5-Y",
        "colab": {
          "base_uri": "https://localhost:8080/"
        },
        "outputId": "3cbf7dd8-92b8-4f7c-bbb1-199ce49a88b9"
      },
      "execution_count": 4,
      "outputs": [
        {
          "output_type": "stream",
          "name": "stdout",
          "text": [
            "Requirement already satisfied: pandas in /usr/local/lib/python3.10/dist-packages (2.0.3)\n",
            "Requirement already satisfied: python-dateutil>=2.8.2 in /usr/local/lib/python3.10/dist-packages (from pandas) (2.8.2)\n",
            "Requirement already satisfied: pytz>=2020.1 in /usr/local/lib/python3.10/dist-packages (from pandas) (2023.4)\n",
            "Requirement already satisfied: tzdata>=2022.1 in /usr/local/lib/python3.10/dist-packages (from pandas) (2024.1)\n",
            "Requirement already satisfied: numpy>=1.21.0 in /usr/local/lib/python3.10/dist-packages (from pandas) (1.25.2)\n",
            "Requirement already satisfied: six>=1.5 in /usr/local/lib/python3.10/dist-packages (from python-dateutil>=2.8.2->pandas) (1.16.0)\n"
          ]
        }
      ]
    },
    {
      "cell_type": "markdown",
      "source": [
        "# Load Data"
      ],
      "metadata": {
        "id": "utt37UKSc6lC"
      }
    },
    {
      "cell_type": "code",
      "source": [
        "ss = pd.read_csv(\"https://raw.githubusercontent.com/jefftwebb/is_4487_base/main/Labs/DataSets/superstore_retail_orders.csv\")"
      ],
      "metadata": {
        "id": "0ichdtamdD7y"
      },
      "execution_count": 5,
      "outputs": []
    },
    {
      "cell_type": "markdown",
      "metadata": {
        "id": "uasJvGvEcUsx"
      },
      "source": [
        "# Summarize and Review Data\n",
        "\n",
        "➡️ Assignment Tasks\n",
        "\n",
        "- Describe or profile the dataframe"
      ]
    },
    {
      "cell_type": "code",
      "source": [
        "# Your code goes here"
      ],
      "metadata": {
        "id": "PrD_cKevUevR"
      },
      "execution_count": null,
      "outputs": []
    },
    {
      "cell_type": "code",
      "source": [
        "ss.describe()"
      ],
      "metadata": {
        "id": "7GWAC3alVHjZ",
        "colab": {
          "base_uri": "https://localhost:8080/",
          "height": 300
        },
        "outputId": "cd6b25ae-db6e-451f-cd79-352a7e4c6c40"
      },
      "execution_count": 6,
      "outputs": [
        {
          "output_type": "execute_result",
          "data": {
            "text/plain": [
              "           order_id       quantity  product_price\n",
              "count  56045.000000   56006.000000   56045.000000\n",
              "mean   61668.066340       3.348498    6195.540505\n",
              "std     7508.229651     422.646565   35784.727716\n",
              "min    45079.000000       1.000000       2.290000\n",
              "25%    55644.000000       1.000000       7.950000\n",
              "50%    61869.000000       1.000000     475.600000\n",
              "75%    68097.000000       2.000000     914.620000\n",
              "max    74147.000000  100000.000000  235481.000000"
            ],
            "text/html": [
              "\n",
              "  <div id=\"df-80466101-7343-4fac-ba3e-b620287027ee\" class=\"colab-df-container\">\n",
              "    <div>\n",
              "<style scoped>\n",
              "    .dataframe tbody tr th:only-of-type {\n",
              "        vertical-align: middle;\n",
              "    }\n",
              "\n",
              "    .dataframe tbody tr th {\n",
              "        vertical-align: top;\n",
              "    }\n",
              "\n",
              "    .dataframe thead th {\n",
              "        text-align: right;\n",
              "    }\n",
              "</style>\n",
              "<table border=\"1\" class=\"dataframe\">\n",
              "  <thead>\n",
              "    <tr style=\"text-align: right;\">\n",
              "      <th></th>\n",
              "      <th>order_id</th>\n",
              "      <th>quantity</th>\n",
              "      <th>product_price</th>\n",
              "    </tr>\n",
              "  </thead>\n",
              "  <tbody>\n",
              "    <tr>\n",
              "      <th>count</th>\n",
              "      <td>56045.000000</td>\n",
              "      <td>56006.000000</td>\n",
              "      <td>56045.000000</td>\n",
              "    </tr>\n",
              "    <tr>\n",
              "      <th>mean</th>\n",
              "      <td>61668.066340</td>\n",
              "      <td>3.348498</td>\n",
              "      <td>6195.540505</td>\n",
              "    </tr>\n",
              "    <tr>\n",
              "      <th>std</th>\n",
              "      <td>7508.229651</td>\n",
              "      <td>422.646565</td>\n",
              "      <td>35784.727716</td>\n",
              "    </tr>\n",
              "    <tr>\n",
              "      <th>min</th>\n",
              "      <td>45079.000000</td>\n",
              "      <td>1.000000</td>\n",
              "      <td>2.290000</td>\n",
              "    </tr>\n",
              "    <tr>\n",
              "      <th>25%</th>\n",
              "      <td>55644.000000</td>\n",
              "      <td>1.000000</td>\n",
              "      <td>7.950000</td>\n",
              "    </tr>\n",
              "    <tr>\n",
              "      <th>50%</th>\n",
              "      <td>61869.000000</td>\n",
              "      <td>1.000000</td>\n",
              "      <td>475.600000</td>\n",
              "    </tr>\n",
              "    <tr>\n",
              "      <th>75%</th>\n",
              "      <td>68097.000000</td>\n",
              "      <td>2.000000</td>\n",
              "      <td>914.620000</td>\n",
              "    </tr>\n",
              "    <tr>\n",
              "      <th>max</th>\n",
              "      <td>74147.000000</td>\n",
              "      <td>100000.000000</td>\n",
              "      <td>235481.000000</td>\n",
              "    </tr>\n",
              "  </tbody>\n",
              "</table>\n",
              "</div>\n",
              "    <div class=\"colab-df-buttons\">\n",
              "\n",
              "  <div class=\"colab-df-container\">\n",
              "    <button class=\"colab-df-convert\" onclick=\"convertToInteractive('df-80466101-7343-4fac-ba3e-b620287027ee')\"\n",
              "            title=\"Convert this dataframe to an interactive table.\"\n",
              "            style=\"display:none;\">\n",
              "\n",
              "  <svg xmlns=\"http://www.w3.org/2000/svg\" height=\"24px\" viewBox=\"0 -960 960 960\">\n",
              "    <path d=\"M120-120v-720h720v720H120Zm60-500h600v-160H180v160Zm220 220h160v-160H400v160Zm0 220h160v-160H400v160ZM180-400h160v-160H180v160Zm440 0h160v-160H620v160ZM180-180h160v-160H180v160Zm440 0h160v-160H620v160Z\"/>\n",
              "  </svg>\n",
              "    </button>\n",
              "\n",
              "  <style>\n",
              "    .colab-df-container {\n",
              "      display:flex;\n",
              "      gap: 12px;\n",
              "    }\n",
              "\n",
              "    .colab-df-convert {\n",
              "      background-color: #E8F0FE;\n",
              "      border: none;\n",
              "      border-radius: 50%;\n",
              "      cursor: pointer;\n",
              "      display: none;\n",
              "      fill: #1967D2;\n",
              "      height: 32px;\n",
              "      padding: 0 0 0 0;\n",
              "      width: 32px;\n",
              "    }\n",
              "\n",
              "    .colab-df-convert:hover {\n",
              "      background-color: #E2EBFA;\n",
              "      box-shadow: 0px 1px 2px rgba(60, 64, 67, 0.3), 0px 1px 3px 1px rgba(60, 64, 67, 0.15);\n",
              "      fill: #174EA6;\n",
              "    }\n",
              "\n",
              "    .colab-df-buttons div {\n",
              "      margin-bottom: 4px;\n",
              "    }\n",
              "\n",
              "    [theme=dark] .colab-df-convert {\n",
              "      background-color: #3B4455;\n",
              "      fill: #D2E3FC;\n",
              "    }\n",
              "\n",
              "    [theme=dark] .colab-df-convert:hover {\n",
              "      background-color: #434B5C;\n",
              "      box-shadow: 0px 1px 3px 1px rgba(0, 0, 0, 0.15);\n",
              "      filter: drop-shadow(0px 1px 2px rgba(0, 0, 0, 0.3));\n",
              "      fill: #FFFFFF;\n",
              "    }\n",
              "  </style>\n",
              "\n",
              "    <script>\n",
              "      const buttonEl =\n",
              "        document.querySelector('#df-80466101-7343-4fac-ba3e-b620287027ee button.colab-df-convert');\n",
              "      buttonEl.style.display =\n",
              "        google.colab.kernel.accessAllowed ? 'block' : 'none';\n",
              "\n",
              "      async function convertToInteractive(key) {\n",
              "        const element = document.querySelector('#df-80466101-7343-4fac-ba3e-b620287027ee');\n",
              "        const dataTable =\n",
              "          await google.colab.kernel.invokeFunction('convertToInteractive',\n",
              "                                                    [key], {});\n",
              "        if (!dataTable) return;\n",
              "\n",
              "        const docLinkHtml = 'Like what you see? Visit the ' +\n",
              "          '<a target=\"_blank\" href=https://colab.research.google.com/notebooks/data_table.ipynb>data table notebook</a>'\n",
              "          + ' to learn more about interactive tables.';\n",
              "        element.innerHTML = '';\n",
              "        dataTable['output_type'] = 'display_data';\n",
              "        await google.colab.output.renderOutput(dataTable, element);\n",
              "        const docLink = document.createElement('div');\n",
              "        docLink.innerHTML = docLinkHtml;\n",
              "        element.appendChild(docLink);\n",
              "      }\n",
              "    </script>\n",
              "  </div>\n",
              "\n",
              "\n",
              "<div id=\"df-16923a3b-01e1-4e86-89e6-793d1aa2aa2f\">\n",
              "  <button class=\"colab-df-quickchart\" onclick=\"quickchart('df-16923a3b-01e1-4e86-89e6-793d1aa2aa2f')\"\n",
              "            title=\"Suggest charts\"\n",
              "            style=\"display:none;\">\n",
              "\n",
              "<svg xmlns=\"http://www.w3.org/2000/svg\" height=\"24px\"viewBox=\"0 0 24 24\"\n",
              "     width=\"24px\">\n",
              "    <g>\n",
              "        <path d=\"M19 3H5c-1.1 0-2 .9-2 2v14c0 1.1.9 2 2 2h14c1.1 0 2-.9 2-2V5c0-1.1-.9-2-2-2zM9 17H7v-7h2v7zm4 0h-2V7h2v10zm4 0h-2v-4h2v4z\"/>\n",
              "    </g>\n",
              "</svg>\n",
              "  </button>\n",
              "\n",
              "<style>\n",
              "  .colab-df-quickchart {\n",
              "      --bg-color: #E8F0FE;\n",
              "      --fill-color: #1967D2;\n",
              "      --hover-bg-color: #E2EBFA;\n",
              "      --hover-fill-color: #174EA6;\n",
              "      --disabled-fill-color: #AAA;\n",
              "      --disabled-bg-color: #DDD;\n",
              "  }\n",
              "\n",
              "  [theme=dark] .colab-df-quickchart {\n",
              "      --bg-color: #3B4455;\n",
              "      --fill-color: #D2E3FC;\n",
              "      --hover-bg-color: #434B5C;\n",
              "      --hover-fill-color: #FFFFFF;\n",
              "      --disabled-bg-color: #3B4455;\n",
              "      --disabled-fill-color: #666;\n",
              "  }\n",
              "\n",
              "  .colab-df-quickchart {\n",
              "    background-color: var(--bg-color);\n",
              "    border: none;\n",
              "    border-radius: 50%;\n",
              "    cursor: pointer;\n",
              "    display: none;\n",
              "    fill: var(--fill-color);\n",
              "    height: 32px;\n",
              "    padding: 0;\n",
              "    width: 32px;\n",
              "  }\n",
              "\n",
              "  .colab-df-quickchart:hover {\n",
              "    background-color: var(--hover-bg-color);\n",
              "    box-shadow: 0 1px 2px rgba(60, 64, 67, 0.3), 0 1px 3px 1px rgba(60, 64, 67, 0.15);\n",
              "    fill: var(--button-hover-fill-color);\n",
              "  }\n",
              "\n",
              "  .colab-df-quickchart-complete:disabled,\n",
              "  .colab-df-quickchart-complete:disabled:hover {\n",
              "    background-color: var(--disabled-bg-color);\n",
              "    fill: var(--disabled-fill-color);\n",
              "    box-shadow: none;\n",
              "  }\n",
              "\n",
              "  .colab-df-spinner {\n",
              "    border: 2px solid var(--fill-color);\n",
              "    border-color: transparent;\n",
              "    border-bottom-color: var(--fill-color);\n",
              "    animation:\n",
              "      spin 1s steps(1) infinite;\n",
              "  }\n",
              "\n",
              "  @keyframes spin {\n",
              "    0% {\n",
              "      border-color: transparent;\n",
              "      border-bottom-color: var(--fill-color);\n",
              "      border-left-color: var(--fill-color);\n",
              "    }\n",
              "    20% {\n",
              "      border-color: transparent;\n",
              "      border-left-color: var(--fill-color);\n",
              "      border-top-color: var(--fill-color);\n",
              "    }\n",
              "    30% {\n",
              "      border-color: transparent;\n",
              "      border-left-color: var(--fill-color);\n",
              "      border-top-color: var(--fill-color);\n",
              "      border-right-color: var(--fill-color);\n",
              "    }\n",
              "    40% {\n",
              "      border-color: transparent;\n",
              "      border-right-color: var(--fill-color);\n",
              "      border-top-color: var(--fill-color);\n",
              "    }\n",
              "    60% {\n",
              "      border-color: transparent;\n",
              "      border-right-color: var(--fill-color);\n",
              "    }\n",
              "    80% {\n",
              "      border-color: transparent;\n",
              "      border-right-color: var(--fill-color);\n",
              "      border-bottom-color: var(--fill-color);\n",
              "    }\n",
              "    90% {\n",
              "      border-color: transparent;\n",
              "      border-bottom-color: var(--fill-color);\n",
              "    }\n",
              "  }\n",
              "</style>\n",
              "\n",
              "  <script>\n",
              "    async function quickchart(key) {\n",
              "      const quickchartButtonEl =\n",
              "        document.querySelector('#' + key + ' button');\n",
              "      quickchartButtonEl.disabled = true;  // To prevent multiple clicks.\n",
              "      quickchartButtonEl.classList.add('colab-df-spinner');\n",
              "      try {\n",
              "        const charts = await google.colab.kernel.invokeFunction(\n",
              "            'suggestCharts', [key], {});\n",
              "      } catch (error) {\n",
              "        console.error('Error during call to suggestCharts:', error);\n",
              "      }\n",
              "      quickchartButtonEl.classList.remove('colab-df-spinner');\n",
              "      quickchartButtonEl.classList.add('colab-df-quickchart-complete');\n",
              "    }\n",
              "    (() => {\n",
              "      let quickchartButtonEl =\n",
              "        document.querySelector('#df-16923a3b-01e1-4e86-89e6-793d1aa2aa2f button');\n",
              "      quickchartButtonEl.style.display =\n",
              "        google.colab.kernel.accessAllowed ? 'block' : 'none';\n",
              "    })();\n",
              "  </script>\n",
              "</div>\n",
              "\n",
              "    </div>\n",
              "  </div>\n"
            ],
            "application/vnd.google.colaboratory.intrinsic+json": {
              "type": "dataframe",
              "summary": "{\n  \"name\": \"ss\",\n  \"rows\": 8,\n  \"fields\": [\n    {\n      \"column\": \"order_id\",\n      \"properties\": {\n        \"dtype\": \"number\",\n        \"std\": 20608.005969435795,\n        \"min\": 7508.229650559143,\n        \"max\": 74147.0,\n        \"num_unique_values\": 8,\n        \"samples\": [\n          61668.066339548575,\n          61869.0,\n          56045.0\n        ],\n        \"semantic_type\": \"\",\n        \"description\": \"\"\n      }\n    },\n    {\n      \"column\": \"quantity\",\n      \"properties\": {\n        \"dtype\": \"number\",\n        \"std\": 37943.160509739755,\n        \"min\": 1.0,\n        \"max\": 100000.0,\n        \"num_unique_values\": 6,\n        \"samples\": [\n          56006.0,\n          3.3484983751740884,\n          100000.0\n        ],\n        \"semantic_type\": \"\",\n        \"description\": \"\"\n      }\n    },\n    {\n      \"column\": \"product_price\",\n      \"properties\": {\n        \"dtype\": \"number\",\n        \"std\": 80969.15026589678,\n        \"min\": 2.29,\n        \"max\": 235481.0,\n        \"num_unique_values\": 8,\n        \"samples\": [\n          6195.540504594523,\n          475.6,\n          56045.0\n        ],\n        \"semantic_type\": \"\",\n        \"description\": \"\"\n      }\n    }\n  ]\n}"
            }
          },
          "metadata": {},
          "execution_count": 6
        }
      ]
    },
    {
      "cell_type": "code",
      "source": [],
      "metadata": {
        "id": "ehR4D37HVgpm"
      },
      "execution_count": null,
      "outputs": []
    },
    {
      "cell_type": "markdown",
      "metadata": {
        "id": "BPcop5yDcUsx"
      },
      "source": [
        "# Prepare Data\n",
        "\n",
        "➡️ Assignment Tasks\n",
        "- Remove rows with empty (NULL) values\n",
        "- Locate outliers in any of the variables.   Filter them out if they appear to be mistakes; keep them if they are exceptional cases.\n",
        "- Create a new field: total_purchase. This should be product_price x quantity."
      ]
    },
    {
      "cell_type": "code",
      "source": [
        "# Drop NAs\n",
        "ss.dropna(inplace=True)"
      ],
      "metadata": {
        "id": "f-b2lDVvWzQa"
      },
      "execution_count": 7,
      "outputs": []
    },
    {
      "cell_type": "code",
      "execution_count": 22,
      "metadata": {
        "vscode": {
          "languageId": "plaintext"
        },
        "id": "KtrPeA1AcUsx",
        "colab": {
          "base_uri": "https://localhost:8080/",
          "height": 927
        },
        "outputId": "be775589-54be-4a50-e68d-d4f6b4fe8409"
      },
      "outputs": [
        {
          "output_type": "display_data",
          "data": {
            "text/plain": [
              "<Figure size 640x480 with 1 Axes>"
            ],
            "image/png": "[encoded data removed]"
          },
          "metadata": {}
        },
        {
          "output_type": "display_data",
          "data": {
            "text/plain": [
              "<Figure size 640x480 with 1 Axes>"
            ],
            "image/png": "[encoded data removed]"
          },
          "metadata": {}
        }
      ],
      "source": [
        "# Search for and filter outliers\n",
        "import matplotlib.pyplot as plt\n",
        "\n",
        "ss = ss[ss['product_price'] < 50000]\n",
        "plt.hist(ss['product_price'], bins=50)\n",
        "plt.xlabel('Product Price')\n",
        "plt.ylabel('Frequency')\n",
        "plt.title('Distribution of Product Prices')\n",
        "plt.show()\n",
        "\n",
        "quantity_threshold = 99  # Set your threshold here\n",
        "ss = ss[ss['quantity'] <= quantity_threshold]\n",
        "\n",
        "plt.hist(ss['quantity'], bins=50)\n",
        "plt.xlabel('Quantity')\n",
        "plt.ylabel('Frequency')\n",
        "plt.title('Distribution of Order Quantities')\n",
        "plt.show()"
      ]
    },
    {
      "cell_type": "code",
      "source": [
        "# create total_purchase\n",
        "ss['total_purchase'] = ss['product_price'] * ss['quantity']"
      ],
      "metadata": {
        "id": "0QztZrVSay-m"
      },
      "execution_count": 20,
      "outputs": []
    },
    {
      "cell_type": "markdown",
      "source": [
        "Check that your cleaning worked"
      ],
      "metadata": {
        "id": "Wr82vY3grf3K"
      }
    },
    {
      "cell_type": "code",
      "source": [
        "# your code goes here\n",
        "ss.describe()"
      ],
      "metadata": {
        "id": "onexdv1ormJo",
        "colab": {
          "base_uri": "https://localhost:8080/",
          "height": 300
        },
        "outputId": "040c8fde-7287-4cfa-9239-92f14cf91718"
      },
      "execution_count": 23,
      "outputs": [
        {
          "output_type": "execute_result",
          "data": {
            "text/plain": [
              "           order_id      quantity  product_price  total_purchase\n",
              "count  54168.000000  54168.000000   54168.000000    54168.000000\n",
              "mean   61642.878674      1.490400     613.954864      686.580205\n",
              "std     7518.127211      0.615206     816.421615      906.180586\n",
              "min    45079.000000      1.000000       2.290000        2.290000\n",
              "25%    55623.750000      1.000000       7.950000       14.970000\n",
              "50%    61855.500000      1.000000     475.600000      475.600000\n",
              "75%    68063.000000      2.000000     914.620000     1000.440000\n",
              "max    74147.000000     20.000000    3578.270000    71565.400000"
            ],
            "text/html": [
              "\n",
              "  <div id=\"df-e1dc1b01-9b6e-4ffd-9970-f350764c1321\" class=\"colab-df-container\">\n",
              "    <div>\n",
              "<style scoped>\n",
              "    .dataframe tbody tr th:only-of-type {\n",
              "        vertical-align: middle;\n",
              "    }\n",
              "\n",
              "    .dataframe tbody tr th {\n",
              "        vertical-align: top;\n",
              "    }\n",
              "\n",
              "    .dataframe thead th {\n",
              "        text-align: right;\n",
              "    }\n",
              "</style>\n",
              "<table border=\"1\" class=\"dataframe\">\n",
              "  <thead>\n",
              "    <tr style=\"text-align: right;\">\n",
              "      <th></th>\n",
              "      <th>order_id</th>\n",
              "      <th>quantity</th>\n",
              "      <th>product_price</th>\n",
              "      <th>total_purchase</th>\n",
              "    </tr>\n",
              "  </thead>\n",
              "  <tbody>\n",
              "    <tr>\n",
              "      <th>count</th>\n",
              "      <td>54168.000000</td>\n",
              "      <td>54168.000000</td>\n",
              "      <td>54168.000000</td>\n",
              "      <td>54168.000000</td>\n",
              "    </tr>\n",
              "    <tr>\n",
              "      <th>mean</th>\n",
              "      <td>61642.878674</td>\n",
              "      <td>1.490400</td>\n",
              "      <td>613.954864</td>\n",
              "      <td>686.580205</td>\n",
              "    </tr>\n",
              "    <tr>\n",
              "      <th>std</th>\n",
              "      <td>7518.127211</td>\n",
              "      <td>0.615206</td>\n",
              "      <td>816.421615</td>\n",
              "      <td>906.180586</td>\n",
              "    </tr>\n",
              "    <tr>\n",
              "      <th>min</th>\n",
              "      <td>45079.000000</td>\n",
              "      <td>1.000000</td>\n",
              "      <td>2.290000</td>\n",
              "      <td>2.290000</td>\n",
              "    </tr>\n",
              "    <tr>\n",
              "      <th>25%</th>\n",
              "      <td>55623.750000</td>\n",
              "      <td>1.000000</td>\n",
              "      <td>7.950000</td>\n",
              "      <td>14.970000</td>\n",
              "    </tr>\n",
              "    <tr>\n",
              "      <th>50%</th>\n",
              "      <td>61855.500000</td>\n",
              "      <td>1.000000</td>\n",
              "      <td>475.600000</td>\n",
              "      <td>475.600000</td>\n",
              "    </tr>\n",
              "    <tr>\n",
              "      <th>75%</th>\n",
              "      <td>68063.000000</td>\n",
              "      <td>2.000000</td>\n",
              "      <td>914.620000</td>\n",
              "      <td>1000.440000</td>\n",
              "    </tr>\n",
              "    <tr>\n",
              "      <th>max</th>\n",
              "      <td>74147.000000</td>\n",
              "      <td>20.000000</td>\n",
              "      <td>3578.270000</td>\n",
              "      <td>71565.400000</td>\n",
              "    </tr>\n",
              "  </tbody>\n",
              "</table>\n",
              "</div>\n",
              "    <div class=\"colab-df-buttons\">\n",
              "\n",
              "  <div class=\"colab-df-container\">\n",
              "    <button class=\"colab-df-convert\" onclick=\"convertToInteractive('df-e1dc1b01-9b6e-4ffd-9970-f350764c1321')\"\n",
              "            title=\"Convert this dataframe to an interactive table.\"\n",
              "            style=\"display:none;\">\n",
              "\n",
              "  <svg xmlns=\"http://www.w3.org/2000/svg\" height=\"24px\" viewBox=\"0 -960 960 960\">\n",
              "    <path d=\"M120-120v-720h720v720H120Zm60-500h600v-160H180v160Zm220 220h160v-160H400v160Zm0 220h160v-160H400v160ZM180-400h160v-160H180v160Zm440 0h160v-160H620v160ZM180-180h160v-160H180v160Zm440 0h160v-160H620v160Z\"/>\n",
              "  </svg>\n",
              "    </button>\n",
              "\n",
              "  <style>\n",
              "    .colab-df-container {\n",
              "      display:flex;\n",
              "      gap: 12px;\n",
              "    }\n",
              "\n",
              "    .colab-df-convert {\n",
              "      background-color: #E8F0FE;\n",
              "      border: none;\n",
              "      border-radius: 50%;\n",
              "      cursor: pointer;\n",
              "      display: none;\n",
              "      fill: #1967D2;\n",
              "      height: 32px;\n",
              "      padding: 0 0 0 0;\n",
              "      width: 32px;\n",
              "    }\n",
              "\n",
              "    .colab-df-convert:hover {\n",
              "      background-color: #E2EBFA;\n",
              "      box-shadow: 0px 1px 2px rgba(60, 64, 67, 0.3), 0px 1px 3px 1px rgba(60, 64, 67, 0.15);\n",
              "      fill: #174EA6;\n",
              "    }\n",
              "\n",
              "    .colab-df-buttons div {\n",
              "      margin-bottom: 4px;\n",
              "    }\n",
              "\n",
              "    [theme=dark] .colab-df-convert {\n",
              "      background-color: #3B4455;\n",
              "      fill: #D2E3FC;\n",
              "    }\n",
              "\n",
              "    [theme=dark] .colab-df-convert:hover {\n",
              "      background-color: #434B5C;\n",
              "      box-shadow: 0px 1px 3px 1px rgba(0, 0, 0, 0.15);\n",
              "      filter: drop-shadow(0px 1px 2px rgba(0, 0, 0, 0.3));\n",
              "      fill: #FFFFFF;\n",
              "    }\n",
              "  </style>\n",
              "\n",
              "    <script>\n",
              "      const buttonEl =\n",
              "        document.querySelector('#df-e1dc1b01-9b6e-4ffd-9970-f350764c1321 button.colab-df-convert');\n",
              "      buttonEl.style.display =\n",
              "        google.colab.kernel.accessAllowed ? 'block' : 'none';\n",
              "\n",
              "      async function convertToInteractive(key) {\n",
              "        const element = document.querySelector('#df-e1dc1b01-9b6e-4ffd-9970-f350764c1321');\n",
              "        const dataTable =\n",
              "          await google.colab.kernel.invokeFunction('convertToInteractive',\n",
              "                                                    [key], {});\n",
              "        if (!dataTable) return;\n",
              "\n",
              "        const docLinkHtml = 'Like what you see? Visit the ' +\n",
              "          '<a target=\"_blank\" href=https://colab.research.google.com/notebooks/data_table.ipynb>data table notebook</a>'\n",
              "          + ' to learn more about interactive tables.';\n",
              "        element.innerHTML = '';\n",
              "        dataTable['output_type'] = 'display_data';\n",
              "        await google.colab.output.renderOutput(dataTable, element);\n",
              "        const docLink = document.createElement('div');\n",
              "        docLink.innerHTML = docLinkHtml;\n",
              "        element.appendChild(docLink);\n",
              "      }\n",
              "    </script>\n",
              "  </div>\n",
              "\n",
              "\n",
              "<div id=\"df-3617a4b8-4be8-4937-b25b-86d0639f47ab\">\n",
              "  <button class=\"colab-df-quickchart\" onclick=\"quickchart('df-3617a4b8-4be8-4937-b25b-86d0639f47ab')\"\n",
              "            title=\"Suggest charts\"\n",
              "            style=\"display:none;\">\n",
              "\n",
              "<svg xmlns=\"http://www.w3.org/2000/svg\" height=\"24px\"viewBox=\"0 0 24 24\"\n",
              "     width=\"24px\">\n",
              "    <g>\n",
              "        <path d=\"M19 3H5c-1.1 0-2 .9-2 2v14c0 1.1.9 2 2 2h14c1.1 0 2-.9 2-2V5c0-1.1-.9-2-2-2zM9 17H7v-7h2v7zm4 0h-2V7h2v10zm4 0h-2v-4h2v4z\"/>\n",
              "    </g>\n",
              "</svg>\n",
              "  </button>\n",
              "\n",
              "<style>\n",
              "  .colab-df-quickchart {\n",
              "      --bg-color: #E8F0FE;\n",
              "      --fill-color: #1967D2;\n",
              "      --hover-bg-color: #E2EBFA;\n",
              "      --hover-fill-color: #174EA6;\n",
              "      --disabled-fill-color: #AAA;\n",
              "      --disabled-bg-color: #DDD;\n",
              "  }\n",
              "\n",
              "  [theme=dark] .colab-df-quickchart {\n",
              "      --bg-color: #3B4455;\n",
              "      --fill-color: #D2E3FC;\n",
              "      --hover-bg-color: #434B5C;\n",
              "      --hover-fill-color: #FFFFFF;\n",
              "      --disabled-bg-color: #3B4455;\n",
              "      --disabled-fill-color: #666;\n",
              "  }\n",
              "\n",
              "  .colab-df-quickchart {\n",
              "    background-color: var(--bg-color);\n",
              "    border: none;\n",
              "    border-radius: 50%;\n",
              "    cursor: pointer;\n",
              "    display: none;\n",
              "    fill: var(--fill-color);\n",
              "    height: 32px;\n",
              "    padding: 0;\n",
              "    width: 32px;\n",
              "  }\n",
              "\n",
              "  .colab-df-quickchart:hover {\n",
              "    background-color: var(--hover-bg-color);\n",
              "    box-shadow: 0 1px 2px rgba(60, 64, 67, 0.3), 0 1px 3px 1px rgba(60, 64, 67, 0.15);\n",
              "    fill: var(--button-hover-fill-color);\n",
              "  }\n",
              "\n",
              "  .colab-df-quickchart-complete:disabled,\n",
              "  .colab-df-quickchart-complete:disabled:hover {\n",
              "    background-color: var(--disabled-bg-color);\n",
              "    fill: var(--disabled-fill-color);\n",
              "    box-shadow: none;\n",
              "  }\n",
              "\n",
              "  .colab-df-spinner {\n",
              "    border: 2px solid var(--fill-color);\n",
              "    border-color: transparent;\n",
              "    border-bottom-color: var(--fill-color);\n",
              "    animation:\n",
              "      spin 1s steps(1) infinite;\n",
              "  }\n",
              "\n",
              "  @keyframes spin {\n",
              "    0% {\n",
              "      border-color: transparent;\n",
              "      border-bottom-color: var(--fill-color);\n",
              "      border-left-color: var(--fill-color);\n",
              "    }\n",
              "    20% {\n",
              "      border-color: transparent;\n",
              "      border-left-color: var(--fill-color);\n",
              "      border-top-color: var(--fill-color);\n",
              "    }\n",
              "    30% {\n",
              "      border-color: transparent;\n",
              "      border-left-color: var(--fill-color);\n",
              "      border-top-color: var(--fill-color);\n",
              "      border-right-color: var(--fill-color);\n",
              "    }\n",
              "    40% {\n",
              "      border-color: transparent;\n",
              "      border-right-color: var(--fill-color);\n",
              "      border-top-color: var(--fill-color);\n",
              "    }\n",
              "    60% {\n",
              "      border-color: transparent;\n",
              "      border-right-color: var(--fill-color);\n",
              "    }\n",
              "    80% {\n",
              "      border-color: transparent;\n",
              "      border-right-color: var(--fill-color);\n",
              "      border-bottom-color: var(--fill-color);\n",
              "    }\n",
              "    90% {\n",
              "      border-color: transparent;\n",
              "      border-bottom-color: var(--fill-color);\n",
              "    }\n",
              "  }\n",
              "</style>\n",
              "\n",
              "  <script>\n",
              "    async function quickchart(key) {\n",
              "      const quickchartButtonEl =\n",
              "        document.querySelector('#' + key + ' button');\n",
              "      quickchartButtonEl.disabled = true;  // To prevent multiple clicks.\n",
              "      quickchartButtonEl.classList.add('colab-df-spinner');\n",
              "      try {\n",
              "        const charts = await google.colab.kernel.invokeFunction(\n",
              "            'suggestCharts', [key], {});\n",
              "      } catch (error) {\n",
              "        console.error('Error during call to suggestCharts:', error);\n",
              "      }\n",
              "      quickchartButtonEl.classList.remove('colab-df-spinner');\n",
              "      quickchartButtonEl.classList.add('colab-df-quickchart-complete');\n",
              "    }\n",
              "    (() => {\n",
              "      let quickchartButtonEl =\n",
              "        document.querySelector('#df-3617a4b8-4be8-4937-b25b-86d0639f47ab button');\n",
              "      quickchartButtonEl.style.display =\n",
              "        google.colab.kernel.accessAllowed ? 'block' : 'none';\n",
              "    })();\n",
              "  </script>\n",
              "</div>\n",
              "\n",
              "    </div>\n",
              "  </div>\n"
            ],
            "application/vnd.google.colaboratory.intrinsic+json": {
              "type": "dataframe",
              "summary": "{\n  \"name\": \"ss\",\n  \"rows\": 8,\n  \"fields\": [\n    {\n      \"column\": \"order_id\",\n      \"properties\": {\n        \"dtype\": \"number\",\n        \"std\": 20579.81553880837,\n        \"min\": 7518.127210714596,\n        \"max\": 74147.0,\n        \"num_unique_values\": 8,\n        \"samples\": [\n          61642.878673755724,\n          61855.5,\n          54168.0\n        ],\n        \"semantic_type\": \"\",\n        \"description\": \"\"\n      }\n    },\n    {\n      \"column\": \"quantity\",\n      \"properties\": {\n        \"dtype\": \"number\",\n        \"std\": 19149.912158125673,\n        \"min\": 0.6152055110826977,\n        \"max\": 54168.0,\n        \"num_unique_values\": 6,\n        \"samples\": [\n          54168.0,\n          1.4904002363018756,\n          20.0\n        ],\n        \"semantic_type\": \"\",\n        \"description\": \"\"\n      }\n    },\n    {\n      \"column\": \"product_price\",\n      \"properties\": {\n        \"dtype\": \"number\",\n        \"std\": 18861.84466775767,\n        \"min\": 2.29,\n        \"max\": 54168.0,\n        \"num_unique_values\": 8,\n        \"samples\": [\n          613.9548643110322,\n          475.6,\n          54168.0\n        ],\n        \"semantic_type\": \"\",\n        \"description\": \"\"\n      }\n    },\n    {\n      \"column\": \"total_purchase\",\n      \"properties\": {\n        \"dtype\": \"number\",\n        \"std\": 29237.920281919225,\n        \"min\": 2.29,\n        \"max\": 71565.4,\n        \"num_unique_values\": 8,\n        \"samples\": [\n          686.580204733422,\n          475.6,\n          54168.0\n        ],\n        \"semantic_type\": \"\",\n        \"description\": \"\"\n      }\n    }\n  ]\n}"
            }
          },
          "metadata": {},
          "execution_count": 23
        }
      ]
    },
    {
      "cell_type": "markdown",
      "metadata": {
        "id": "rV14NAbkcUsx"
      },
      "source": [
        "# Summarize Data\n",
        "\n",
        "➡️ Assignment Tasks\n",
        "- Calculate the average price per year-month\n",
        "- Calculate the total revenue per year month\n",
        "\n",
        "Does more cleaning need to be done? If so, do it and then recreate the above summary tables."
      ]
    },
    {
      "cell_type": "code",
      "execution_count": 26,
      "metadata": {
        "vscode": {
          "languageId": "plaintext"
        },
        "id": "-pnCkc3CcUsx",
        "colab": {
          "base_uri": "https://localhost:8080/"
        },
        "outputId": "2d42d936-9dc5-47ee-e1db-0d0a73fd35b0"
      },
      "outputs": [
        {
          "output_type": "execute_result",
          "data": {
            "text/plain": [
              "year_month\n",
              "2020-01    3166.817293\n",
              "2020-02    3199.469359\n",
              "2020-03    3242.035279\n",
              "2020-04    3194.646275\n",
              "2020-05    3192.571359\n",
              "2020-06    3132.275911\n",
              "2020-07    1959.974251\n",
              "2020-08    1924.981087\n",
              "2020-09    1764.130833\n",
              "2020-10    1800.830762\n",
              "2020-11    1666.368901\n",
              "2020-12    1729.697795\n",
              "2021-01    1774.621612\n",
              "2021-02    1755.272269\n",
              "2021-03    1760.495962\n",
              "2021-04    1691.161107\n",
              "2021-05    1640.100368\n",
              "2021-06    1694.477581\n",
              "2021-07     729.851550\n",
              "2021-08     409.107649\n",
              "2021-09     437.462140\n",
              "2021-10     434.127245\n",
              "2021-11     468.310875\n",
              "2021-12     500.330821\n",
              "2022-01     469.658801\n",
              "2022-02     481.718170\n",
              "2022-03     485.373182\n",
              "2022-04     482.481023\n",
              "2022-05     513.701953\n",
              "2022-06     509.168107\n",
              "Freq: M, Name: product_price, dtype: float64"
            ]
          },
          "metadata": {},
          "execution_count": 26
        }
      ],
      "source": [
        "\n",
        "from datetime import datetime\n",
        "\n",
        "# average price\n",
        "# Handle dates outside the normal range and filter\n",
        "ss['year_month'] = pd.to_datetime(ss['order_date'], errors='coerce').dt.to_period('M')\n",
        "\n",
        "# Filter dates between 2019 and current date\n",
        "start_date = pd.to_datetime('2019-01-01').to_period('M')\n",
        "end_date = pd.to_datetime(datetime.now()).to_period('M')\n",
        "ss_filtered = ss[(ss['year_month'] >= start_date) & (ss['year_month'] <= end_date)]\n",
        "\n",
        "avg_price_by_month = ss_filtered.groupby('year_month')['product_price'].mean()\n",
        "avg_price_by_month"
      ]
    },
    {
      "cell_type": "code",
      "execution_count": 27,
      "metadata": {
        "vscode": {
          "languageId": "plaintext"
        },
        "id": "KUq0h-4PcUsy",
        "colab": {
          "base_uri": "https://localhost:8080/"
        },
        "outputId": "6db9372a-4fe5-4147-e7e3-600d16739e99"
      },
      "outputs": [
        {
          "output_type": "stream",
          "name": "stderr",
          "text": [
            "<ipython-input-27-d0f3218f25a3>:2: SettingWithCopyWarning: \n",
            "A value is trying to be set on a copy of a slice from a DataFrame.\n",
            "Try using .loc[row_indexer,col_indexer] = value instead\n",
            "\n",
            "See the caveats in the documentation: https://pandas.pydata.org/pandas-docs/stable/user_guide/indexing.html#returning-a-view-versus-a-copy\n",
            "  ss_filtered['total_revenue'] = ss_filtered['product_price'] * ss_filtered['quantity']\n"
          ]
        },
        {
          "output_type": "execute_result",
          "data": {
            "text/plain": [
              "year_month\n",
              "2020-01     573193.93\n",
              "2020-02     499117.22\n",
              "2020-03     706668.08\n",
              "2020-04     651707.84\n",
              "2020-05     657669.70\n",
              "2020-06     635852.01\n",
              "2020-07     484113.64\n",
              "2020-08     531294.78\n",
              "2020-09     338713.12\n",
              "2020-10     401585.26\n",
              "2020-11     303279.14\n",
              "2020-12     556962.69\n",
              "2021-01     429458.43\n",
              "2021-02     456370.79\n",
              "2021-03     466531.43\n",
              "2021-04     488745.56\n",
              "2021-05     534672.72\n",
              "2021-06     525288.05\n",
              "2021-07    1072057.49\n",
              "2021-08    1782453.48\n",
              "2021-09    1864925.94\n",
              "2021-10    2012010.82\n",
              "2021-11    2152333.56\n",
              "2021-12    2890764.61\n",
              "2022-01    2398289.17\n",
              "2022-02    2355462.16\n",
              "2022-03    2609889.06\n",
              "2022-04    2685226.38\n",
              "2022-05    3049943.70\n",
              "2022-06    2959952.22\n",
              "Freq: M, Name: total_revenue, dtype: float64"
            ]
          },
          "metadata": {},
          "execution_count": 27
        }
      ],
      "source": [
        "# total revenue\n",
        "ss_filtered['total_revenue'] = ss_filtered['product_price'] * ss_filtered['quantity']\n",
        "total_revenue_by_month = ss_filtered.groupby('year_month')['total_revenue'].sum()\n",
        "total_revenue_by_month"
      ]
    },
    {
      "cell_type": "markdown",
      "source": [
        "# Plot Data\n",
        "\n",
        "➡️ Assignment Tasks\n",
        "- Produce two plots that show patterns or relationships in the data.\n",
        "- Interpret these patterns for potential value to the business.  "
      ],
      "metadata": {
        "id": "zY7mwXAFmu8i"
      }
    },
    {
      "cell_type": "code",
      "source": [
        "\n",
        "import pandas as pd\n",
        "from datetime import datetime\n",
        "import matplotlib.pyplot as plt\n",
        "\n",
        "# Handle dates and filter\n",
        "ss['year_month'] = pd.to_datetime(ss['order_date'], errors='coerce').dt.to_period('M')\n",
        "start_date = pd.to_datetime('2019-01-01').to_period('M')\n",
        "end_date = pd.to_datetime(datetime.now()).to_period('M')\n",
        "ss_filtered = ss[(ss['year_month'] >= start_date) & (ss['year_month'] <= end_date)].copy() # Create an explicit copy\n",
        "\n",
        "# Plot 1: Average price over time\n",
        "avg_price_by_month = ss_filtered.groupby('year_month')['product_price'].mean()\n",
        "plt.figure(figsize=(10, 6))\n",
        "avg_price_by_month.plot(kind='line')\n",
        "plt.title('Average Product Price Over Time')\n",
        "plt.xlabel('Year-Month')\n",
        "plt.ylabel('Average Price')\n",
        "plt.grid(True)\n",
        "plt.show()\n",
        "\n",
        "# Plot 2: Total purchase amount by month\n",
        "ss_filtered.loc[:, 'total_purchase'] = ss_filtered['product_price'] * ss_filtered['quantity'] # Use .loc for safe assignment\n",
        "total_purchase_by_month = ss_filtered.groupby('year_month')['total_purchase'].sum()\n",
        "plt.figure(figsize=(10, 6))\n",
        "total_purchase_by_month.plot(kind='bar')\n",
        "plt.title('Total Purchase Amount by Month')\n",
        "plt.xlabel('Year-Month')\n",
        "plt.ylabel('Total Purchase Amount')\n",
        "plt.grid(True)\n",
        "plt.show()"
      ],
      "metadata": {
        "id": "TBkuVxipmJPS",
        "colab": {
          "base_uri": "https://localhost:8080/",
          "height": 901
        },
        "outputId": "1da2beb3-f4f5-4b1b-e874-c0a4eac4fb28"
      },
      "execution_count": 29,
      "outputs": [
        {
          "output_type": "display_data",
          "data": {
            "text/plain": [
              "<Figure size 1000x600 with 1 Axes>"
            ],
            "image/png": "[encoded data removed]"
          },
          "metadata": {}
        },
        {
          "output_type": "display_data",
          "data": {
            "text/plain": [
              "<Figure size 1000x600 with 1 Axes>"
            ],
            "image/png": "[encoded data removed]"
          },
          "metadata": {}
        }
      ]
    },
    {
      "cell_type": "code",
      "source": [
        "#Based on plot 1 the average price of a product decreases year over year.\n",
        "#Since most of the items sold are phones the decrease in price could be\n",
        "#because of a drop in the price of materials\n",
        "\n",
        "#Based in plot 2 the total purchase amount increased significantly\n",
        "# during mid 2021, and purchase amount continued to grow almost every month.\n",
        "# This could be because of more traffic to the site due to better marketing."
      ],
      "metadata": {
        "id": "L3Z0NdFLnUB9"
      },
      "execution_count": null,
      "outputs": []
    },
    {
      "cell_type": "code",
      "source": [],
      "metadata": {
        "id": "ZtoNqSIH0pR2"
      },
      "execution_count": null,
      "outputs": []
    },
    {
      "cell_type": "markdown",
      "source": [
        "Make an interpretive comment."
      ],
      "metadata": {
        "id": "pfFlJJQ2r_d8"
      }
    }
  ],
  "metadata": {
    "language_info": {
      "name": "python"
    },
    "colab": {
      "provenance": [],
      "toc_visible": true,
      "include_colab_link": true
    },
    "kernelspec": {
      "name": "python3",
      "display_name": "Python 3"
    }
  },
  "nbformat": 4,
  "nbformat_minor": 0
}